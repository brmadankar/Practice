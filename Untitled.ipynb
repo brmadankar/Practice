{
 "cells": [
  {
   "cell_type": "code",
   "execution_count": null,
   "id": "b3171025-31ba-43fe-918a-0af19ce5c0f9",
   "metadata": {},
   "outputs": [],
   "source": [
    "#Q.1-Write a Python program to print \"Hello, World!\".\n",
    "print(\"Hello World\")"
   ]
  },
  {
   "cell_type": "code",
   "execution_count": 59,
   "id": "dfc94007-f10d-44e2-a621-c5ce633925f7",
   "metadata": {},
   "outputs": [
    {
     "name": "stdin",
     "output_type": "stream",
     "text": [
      "Enter the number 4\n"
     ]
    },
    {
     "name": "stdout",
     "output_type": "stream",
     "text": [
      "num is even\n"
     ]
    }
   ],
   "source": [
    "#Q.2-Write a program to check if a number is even or odd.\n",
    "num=int(input(\"Enter the number\"))\n",
    "if num%2==0:\n",
    "    print(\"num is even\")\n",
    "else:\n",
    "    print(\"num is odd\")"
   ]
  },
  {
   "cell_type": "code",
   "execution_count": 68,
   "id": "6e979dda-d76a-4186-a636-9174186b2462",
   "metadata": {},
   "outputs": [
    {
     "name": "stdin",
     "output_type": "stream",
     "text": [
      "enter the number 5\n"
     ]
    },
    {
     "name": "stdout",
     "output_type": "stream",
     "text": [
      "1\n",
      "2\n",
      "6\n",
      "24\n",
      "120\n"
     ]
    }
   ],
   "source": [
    "#Q.3-Write a program to find the factorial of a number.\n",
    "\n",
    "n=int(input(\"enter the number\"))\n",
    "factorial=1\n",
    "for i in range(1,n+1):\n",
    "    factorial*=i\n",
    "    print(factorial)"
   ]
  },
  {
   "cell_type": "code",
   "execution_count": 75,
   "id": "63b8d684-f0ef-4ce1-8a5d-c0a2781d1751",
   "metadata": {},
   "outputs": [
    {
     "name": "stdout",
     "output_type": "stream",
     "text": [
      "raknadaM irhsaygahB\n"
     ]
    }
   ],
   "source": [
    "#Q.6-Write a program to reverse a string.\n",
    "\n",
    "a=\"Bhagyashri Madankar\"\n",
    "\n",
    "print(a[::-1])"
   ]
  },
  {
   "cell_type": "markdown",
   "id": "88c2c39f-4402-4987-8c73-976ec1e9322b",
   "metadata": {},
   "source": [
    "## Q.7-Write a program to check if a number is prime.\n",
    "\n",
    "n=int(input(\"Enter the num\"))\n",
    "\n",
    "if n%2==0:\n",
    "    print(\"num is even\")\n",
    "else:\n",
    "    print(\"num is odd\")\n",
    "    "
   ]
  },
  {
   "cell_type": "code",
   "execution_count": 80,
   "id": "0b4ced23-d4c4-4891-9a5f-b3a4ad490f7e",
   "metadata": {},
   "outputs": [
    {
     "name": "stdin",
     "output_type": "stream",
     "text": [
      "Enter the num 21\n"
     ]
    },
    {
     "name": "stdout",
     "output_type": "stream",
     "text": [
      "num is odd\n"
     ]
    }
   ],
   "source": [
    "n=int(input(\"Enter the num\"))\n",
    "\n",
    "if n%2==0:\n",
    "    print(\"num is even\") \n",
    "else: \n",
    "    print(\"num is odd\")"
   ]
  },
  {
   "cell_type": "code",
   "execution_count": null,
   "id": "a9920dd3-fe19-4f00-b4d6-a4e9e0584a7d",
   "metadata": {},
   "outputs": [],
   "source": []
  }
 ],
 "metadata": {
  "kernelspec": {
   "display_name": "Python 3 (ipykernel)",
   "language": "python",
   "name": "python3"
  },
  "language_info": {
   "codemirror_mode": {
    "name": "ipython",
    "version": 3
   },
   "file_extension": ".py",
   "mimetype": "text/x-python",
   "name": "python",
   "nbconvert_exporter": "python",
   "pygments_lexer": "ipython3",
   "version": "3.13.2"
  }
 },
 "nbformat": 4,
 "nbformat_minor": 5
}
